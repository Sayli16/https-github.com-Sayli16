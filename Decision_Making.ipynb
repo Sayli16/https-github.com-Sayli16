{
  "nbformat": 4,
  "nbformat_minor": 0,
  "metadata": {
    "colab": {
      "provenance": []
    },
    "kernelspec": {
      "name": "python3",
      "display_name": "Python 3"
    },
    "language_info": {
      "name": "python"
    }
  },
  "cells": [
    {
      "cell_type": "code",
      "source": [
        "# check if the number is greater than num\n",
        "\n",
        "num = int(input(\"Enter the number\"))\n",
        "\n",
        "if num > 50:\n",
        "    print('Ok')"
      ],
      "metadata": {
        "colab": {
          "base_uri": "https://localhost:8080/"
        },
        "id": "UnTZoIzdNoN6",
        "outputId": "5ab71234-dfab-4f45-d4f3-67f476462782"
      },
      "execution_count": 4,
      "outputs": [
        {
          "output_type": "stream",
          "name": "stdout",
          "text": [
            "Enter the number78\n",
            "Ok\n"
          ]
        }
      ]
    },
    {
      "cell_type": "code",
      "source": [
        "# Positive or Negative\n",
        "\n",
        "num = int(input(\"Enter the number \"))\n",
        "if num > 0:\n",
        "  print('Positive')\n",
        "  print('Ok')\n",
        "else:\n",
        "  print('Negative')\n",
        "  print('Goodbye!!!')"
      ],
      "metadata": {
        "colab": {
          "base_uri": "https://localhost:8080/"
        },
        "id": "fim2qWjFO2Qb",
        "outputId": "fcde94ab-c0e6-4f3d-8a52-8a91126276ad"
      },
      "execution_count": 5,
      "outputs": [
        {
          "output_type": "stream",
          "name": "stdout",
          "text": [
            "Enter the number -3\n",
            "Negative\n",
            "Goodbye!!!\n"
          ]
        }
      ]
    },
    {
      "cell_type": "code",
      "source": [
        "num = int(input(\"Enter the number\"))\n",
        "\n",
        "if num > 0:\n",
        "  print('positive')\n",
        "elif num == 0:\n",
        "  print('Zero')\n",
        "else:\n",
        "  print('Negative')"
      ],
      "metadata": {
        "colab": {
          "base_uri": "https://localhost:8080/"
        },
        "id": "SRMar0z_PiRz",
        "outputId": "e017fa66-6fbb-4150-ad11-fc16a1851312"
      },
      "execution_count": 6,
      "outputs": [
        {
          "output_type": "stream",
          "name": "stdout",
          "text": [
            "Enter the number0\n",
            "Zero\n"
          ]
        }
      ]
    },
    {
      "cell_type": "code",
      "source": [
        "# Check if the number is odd or even\n",
        "\n",
        "num = int(input(\"Enter the number\"))\n",
        "\n",
        "if num % 2 == 0:\n",
        "  print('Even')\n",
        "else:\n",
        "  print('Odd')"
      ],
      "metadata": {
        "colab": {
          "base_uri": "https://localhost:8080/"
        },
        "id": "EwnHXO9hQWzN",
        "outputId": "ab795edd-6b24-4e9c-e724-3f546495f341"
      },
      "execution_count": 7,
      "outputs": [
        {
          "output_type": "stream",
          "name": "stdout",
          "text": [
            "Enter the number71\n",
            "Odd\n"
          ]
        }
      ]
    },
    {
      "cell_type": "code",
      "source": [
        "int(True)"
      ],
      "metadata": {
        "colab": {
          "base_uri": "https://localhost:8080/"
        },
        "id": "4yZXlk96QyHC",
        "outputId": "2aa70423-427f-4780-b424-dd88df8a0f37"
      },
      "execution_count": 8,
      "outputs": [
        {
          "output_type": "execute_result",
          "data": {
            "text/plain": [
              "1"
            ]
          },
          "metadata": {},
          "execution_count": 8
        }
      ]
    },
    {
      "cell_type": "code",
      "source": [
        "int(False)"
      ],
      "metadata": {
        "colab": {
          "base_uri": "https://localhost:8080/"
        },
        "id": "FWlqpuW3Q6HY",
        "outputId": "4eb68d09-d02d-47b0-b617-5f0b672610fe"
      },
      "execution_count": 9,
      "outputs": [
        {
          "output_type": "execute_result",
          "data": {
            "text/plain": [
              "0"
            ]
          },
          "metadata": {},
          "execution_count": 9
        }
      ]
    },
    {
      "cell_type": "code",
      "source": [
        "True + True - False"
      ],
      "metadata": {
        "colab": {
          "base_uri": "https://localhost:8080/"
        },
        "id": "6Er4fw10Q9tE",
        "outputId": "9030fb2a-fae4-41b2-badc-7c124313ec8b"
      },
      "execution_count": 10,
      "outputs": [
        {
          "output_type": "execute_result",
          "data": {
            "text/plain": [
              "2"
            ]
          },
          "metadata": {},
          "execution_count": 10
        }
      ]
    },
    {
      "cell_type": "code",
      "source": [
        "a = 12\n",
        "\n",
        "if a:\n",
        "  print('!!!!!!')"
      ],
      "metadata": {
        "colab": {
          "base_uri": "https://localhost:8080/"
        },
        "id": "uqivpAc1ROWM",
        "outputId": "0e6b4aa2-f53d-4c92-a3e5-455c0ef41aae"
      },
      "execution_count": 11,
      "outputs": [
        {
          "output_type": "stream",
          "name": "stdout",
          "text": [
            "!!!!!!\n"
          ]
        }
      ]
    },
    {
      "cell_type": "code",
      "source": [
        "# check if the number is between 50 and\n",
        "\n",
        "num = int(input(\"Enter the number\"))\n",
        "\n",
        "if num > 50:\n",
        "  if num < 150:\n",
        "    print('Correct')\n",
        "  else:\n",
        "    print('greater than 150')\n",
        "else:\n",
        "  print('Incorrect')\n"
      ],
      "metadata": {
        "colab": {
          "base_uri": "https://localhost:8080/"
        },
        "id": "VIHBQ1qQRVHk",
        "outputId": "6dec2dca-9c66-4510-f62d-ba958d354b96"
      },
      "execution_count": 12,
      "outputs": [
        {
          "output_type": "stream",
          "name": "stdout",
          "text": [
            "Enter the number170\n",
            "greater than 150\n"
          ]
        }
      ]
    },
    {
      "cell_type": "code",
      "source": [
        "num = int(input(\"Enter the number\"))\n",
        "\n",
        "if num > 50 and num < 150:\n",
        "  print('correct')\n",
        "else:\n",
        "  print('Incorrect')"
      ],
      "metadata": {
        "colab": {
          "base_uri": "https://localhost:8080/"
        },
        "id": "xOvbQzmkWO5e",
        "outputId": "ce819312-da85-4ed8-b11f-6d5ed61e843a"
      },
      "execution_count": 13,
      "outputs": [
        {
          "output_type": "stream",
          "name": "stdout",
          "text": [
            "Enter the number170\n",
            "Incorrect\n"
          ]
        }
      ]
    },
    {
      "cell_type": "code",
      "source": [
        "#  Read selling cost and purrchase cost\n",
        "#  find profit or lose and how much ?\n",
        "\n",
        "purchase_cost = int(input(\"Enter the purchase cost\"))\n",
        "selling_cost = int(input(\"Enter the selling cost\"))\n",
        "\n",
        "if selling_cost > purchase_cost:\n",
        "  print('Profit:', selling_cost - purchase_cost)\n",
        "else:\n",
        "  print('Loss:', purchase_cost - selling_cost)"
      ],
      "metadata": {
        "colab": {
          "base_uri": "https://localhost:8080/"
        },
        "id": "6YgsVIUYYtfd",
        "outputId": "b5814f12-f355-4c5f-e86b-9d30390c8191"
      },
      "execution_count": 14,
      "outputs": [
        {
          "output_type": "stream",
          "name": "stdout",
          "text": [
            "Enter the purchase cost10\n",
            "Enter the selling cost50\n",
            "Profit: 40\n"
          ]
        }
      ]
    },
    {
      "cell_type": "code",
      "source": [
        "# Find the largest of 3 numbers\n",
        "# 'and', 'or' not allowed\n",
        "\n",
        "num1 = int(input(\"Enter the 1st number\"))\n",
        "num2 = int(input(\"Enter the 2nd number\"))\n",
        "num3 = int(input(\"Enter the 3rd number\"))\n",
        "\n",
        "if num1 > num2:\n",
        "  if num1 > num3:\n",
        "    print6('Largest is  num1', num1)\n",
        "  else:\n",
        "    print(\"Largest is num3\", num3)\n",
        "else:\n",
        "  if num2 > num3:\n",
        "    print('Largest is num2', num2)\n",
        "  else:\n",
        "    print('Largest is num3', num3)\n"
      ],
      "metadata": {
        "colab": {
          "base_uri": "https://localhost:8080/"
        },
        "id": "HK-9aubbeq7Y",
        "outputId": "bb837370-7a49-4e19-945b-bb1db9968b9e"
      },
      "execution_count": 16,
      "outputs": [
        {
          "output_type": "stream",
          "name": "stdout",
          "text": [
            "Enter the 1st number90\n",
            "Enter the 2nd number45\n",
            "Enter the 3rd number65\n",
            "Largest is  num1 90\n"
          ]
        }
      ]
    },
    {
      "cell_type": "code",
      "source": [
        "# 2020 =>  Leap year\n",
        "# 2018 => Not leap\n",
        "# 2000 => leap\n",
        "# 1800 => not leap => century year\n",
        "\n",
        "year = int(input(\"Enetr the year\"))\n",
        "\n",
        "if year % 4 == 0:\n",
        "  if year % 100 == 0:\n",
        "    if year % 400 == 0:\n",
        "      print('Leap century year')\n",
        "    else:\n",
        "      print('Century but not leap')\n",
        "  else:\n",
        "    print('leap Year')\n",
        "else:\n",
        "  print('Not Leap')"
      ],
      "metadata": {
        "colab": {
          "base_uri": "https://localhost:8080/"
        },
        "id": "IdSX6XhqggP6",
        "outputId": "b288231e-e17a-4b31-da5a-ec712a35411f"
      },
      "execution_count": 17,
      "outputs": [
        {
          "output_type": "stream",
          "name": "stdout",
          "text": [
            "Enetr the year2004\n",
            "leap Year\n"
          ]
        }
      ]
    },
    {
      "cell_type": "code",
      "source": [
        "'''write a python program to input marks of five subjects\n",
        "physics, Chemistry,\n",
        "Biology, Mathsmatics and Computer. Calculate percentage and grade\n",
        "according to following:\n",
        "Percentage >= 90% : Grade A\n",
        "Percentage >= 80% : Grade B\n",
        "Percentage >= 70% : Grade C\n",
        "Percentage >= 60% : Grade D\n",
        "Percentage >= 50% : Grade E\n",
        "Percentage < 40% : Grade F\n",
        "'''\n",
        "\n",
        "phys = int(input(\"enter the marks of physics\"))\n",
        "chem = int(input(\"enter the marks of chemistry\"))\n",
        "bio = int(input(\"enter the marks of biology\"))\n",
        "math = int(input(\"enter the marks of mathmatics\"))\n",
        "comp = int(input(\"enter the marks of computer\"))\n",
        "\n",
        "perc = ((phys + chem + bio + math + comp)/500) * 100\n",
        "\n",
        "if  perc >= 90:\n",
        "  print('Grade A')\n",
        "elif perc >= 80:\n",
        "  print('Grade B')\n",
        "elif perc >= 70:\n",
        "  print('Grade C')\n",
        "elif perc >= 60:\n",
        "  print('Grade D')\n",
        "elif perc >= 50:\n",
        "  print('Grade E')\n",
        "else:\n",
        "  print('Fail')"
      ],
      "metadata": {
        "colab": {
          "base_uri": "https://localhost:8080/"
        },
        "id": "M7r22omLiXdw",
        "outputId": "ed93a32f-b921-4d12-8d49-539fb6954a9e"
      },
      "execution_count": 18,
      "outputs": [
        {
          "output_type": "stream",
          "name": "stdout",
          "text": [
            "enter the marks of physics30\n",
            "enter the marks of chemistry45\n",
            "enter the marks of biology86\n",
            "enter the marks of mathmatics95\n",
            "enter the marks of computer70\n",
            "Grade D\n"
          ]
        }
      ]
    },
    {
      "cell_type": "code",
      "source": [],
      "metadata": {
        "id": "7qgOnXhizomx"
      },
      "execution_count": null,
      "outputs": []
    }
  ]
}